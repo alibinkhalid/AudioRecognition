{
 "cells": [
  {
   "cell_type": "code",
   "execution_count": 1,
   "id": "e09eb12c",
   "metadata": {},
   "outputs": [
    {
     "name": "stdout",
     "output_type": "stream",
     "text": [
      "Microphone with name \"Microsoft Sound Mapper - Input\" found for `Microphone(device_index=0)`\n",
      "Microphone with name \"Headset Microphone (Plantronics\" found for `Microphone(device_index=1)`\n",
      "Microphone with name \"Microphone Array (Intel® Smart \" found for `Microphone(device_index=2)`\n",
      "Microphone with name \"Microphone (C922 Pro Stream Web\" found for `Microphone(device_index=3)`\n",
      "Microphone with name \"Microsoft Sound Mapper - Output\" found for `Microphone(device_index=4)`\n",
      "Microphone with name \"Headset Earphone (Plantronics B\" found for `Microphone(device_index=5)`\n",
      "Microphone with name \"Speakers (Realtek(R) Audio)\" found for `Microphone(device_index=6)`\n",
      "Microphone with name \"Color LCD (Intel(R) Display Aud\" found for `Microphone(device_index=7)`\n",
      "Microphone with name \"Microphone Array 1 (Intel® Smart Sound Technology (Intel® SST) Microphone)\" found for `Microphone(device_index=8)`\n",
      "Microphone with name \"Microphone Array 2 (Intel® Smart Sound Technology (Intel® SST) Microphone)\" found for `Microphone(device_index=9)`\n",
      "Microphone with name \"Microphone Array 3 (Intel® Smart Sound Technology (Intel® SST) Microphone)\" found for `Microphone(device_index=10)`\n",
      "Microphone with name \"Headset (@System32\\drivers\\bthhfenum.sys,#2;%1 Hands-Free%0\r\n",
      ";(\u0002))\" found for `Microphone(device_index=11)`\n",
      "Microphone with name \"Headset (@System32\\drivers\\bthhfenum.sys,#2;%1 Hands-Free%0\r\n",
      ";(\u0002))\" found for `Microphone(device_index=12)`\n",
      "Microphone with name \"Microphone (Dell USB Audio)\" found for `Microphone(device_index=13)`\n",
      "Microphone with name \"Speakers (Dell USB Audio)\" found for `Microphone(device_index=14)`\n",
      "Microphone with name \"Headphones 1 (Realtek HD Audio 2nd output with SST)\" found for `Microphone(device_index=15)`\n",
      "Microphone with name \"Headphones 2 (Realtek HD Audio 2nd output with SST)\" found for `Microphone(device_index=16)`\n",
      "Microphone with name \"PC Speaker (Realtek HD Audio 2nd output with SST)\" found for `Microphone(device_index=17)`\n",
      "Microphone with name \"Speakers 1 (Realtek HD Audio output with SST)\" found for `Microphone(device_index=18)`\n",
      "Microphone with name \"Speakers 2 (Realtek HD Audio output with SST)\" found for `Microphone(device_index=19)`\n",
      "Microphone with name \"PC Speaker (Realtek HD Audio output with SST)\" found for `Microphone(device_index=20)`\n",
      "Microphone with name \"Microphone 1 (Realtek HD Audio Mic input with SST)\" found for `Microphone(device_index=21)`\n",
      "Microphone with name \"Microphone 2 (Realtek HD Audio Mic input with SST)\" found for `Microphone(device_index=22)`\n",
      "Microphone with name \"Microphone 3 (Realtek HD Audio Mic input with SST)\" found for `Microphone(device_index=23)`\n",
      "Microphone with name \"Output (Intel(R) Display Audio Output 1.1)\" found for `Microphone(device_index=24)`\n",
      "Microphone with name \"Microphone (C922 Pro Stream Webcam)\" found for `Microphone(device_index=25)`\n",
      "Microphone with name \"Headphones ()\" found for `Microphone(device_index=26)`\n",
      "Microphone with name \"Headset Microphone (Plantronics Blackwire 3225 Series)\" found for `Microphone(device_index=27)`\n",
      "Microphone with name \"Headset Earphone (Plantronics Blackwire 3225 Series)\" found for `Microphone(device_index=28)`\n"
     ]
    }
   ],
   "source": [
    "import speech_recognition as sr\n",
    "for index, name in enumerate(sr.Microphone.list_microphone_names()):\n",
    "    print(\"Microphone with name \\\"{1}\\\" found for `Microphone(device_index={0})`\".format(index, name))"
   ]
  },
  {
   "cell_type": "markdown",
   "id": "29943c75",
   "metadata": {},
   "source": [
    "# Audio Recognition"
   ]
  },
  {
   "cell_type": "code",
   "execution_count": null,
   "id": "2b35d36a",
   "metadata": {},
   "outputs": [],
   "source": [
    "import speech_recognition as sr\n",
    "\n",
    "\n",
    "def main():\n",
    "    r = sr.Recognizer()\n",
    "\n",
    "\n",
    "    with sr.Microphone() as source:\n",
    "        r.adjust_for_ambient_noise(source)\n",
    "\n",
    "        print(\"Please say something...\")\n",
    "\n",
    "        audio = r.listen(source)\n",
    "\n",
    "        print(\"Recognising Now...\")\n",
    "\n",
    "\n",
    "        try:\n",
    "            print(\"You said: \\n \" + r.recognize_google(audio))\n",
    "            print(\"Audio Recognition Successful.\")\n",
    "\n",
    "        except Exception as e:\n",
    "            print(\"Error : \" + str(e))\n",
    "\n",
    "\n",
    "        with open(\"recordedaudio.wav\",\"wb\") as f:\n",
    "            f.write(audio.get_wav_data())\n",
    "\n",
    "\n",
    "\n",
    "if __name__ == \"__main__\":\n",
    "                  main()"
   ]
  },
  {
   "cell_type": "markdown",
   "id": "6d53b043",
   "metadata": {},
   "source": [
    "# Long Audio Recognition"
   ]
  },
  {
   "cell_type": "code",
   "execution_count": 2,
   "id": "2ffffdc2",
   "metadata": {},
   "outputs": [
    {
     "name": "stderr",
     "output_type": "stream",
     "text": [
      "C:\\Users\\M058999\\Miniconda3\\envs\\py39\\lib\\site-packages\\pydub\\utils.py:170: RuntimeWarning: Couldn't find ffmpeg or avconv - defaulting to ffmpeg, but may not work\n",
      "  warn(\"Couldn't find ffmpeg or avconv - defaulting to ffmpeg, but may not work\", RuntimeWarning)\n"
     ]
    },
    {
     "name": "stdout",
     "output_type": "stream",
     "text": [
      "audio-chunks\\chunk1.wav : Who's a bold which he had fixed in a bowery or a country seat. \n",
      "audio-chunks\\chunk2.wav : Add a short distance from the city. \n",
      "audio-chunks\\chunk3.wav : Just that what is now called dutch street. \n",
      "audio-chunks\\chunk4.wav : Sooner bounded with proofs of his ingenuity. \n",
      "audio-chunks\\chunk5.wav : Patterned smoked. \n",
      "audio-chunks\\chunk6.wav : That required a horse to work them. \n",
      "audio-chunks\\chunk7.wav : Dutch ovens that roasted meat without fire. \n",
      "audio-chunks\\chunk8.wav : Cards that went before the horses. \n",
      "audio-chunks\\chunk9.wav : Weather cocks that turned against the wind and other wrong-headed contrivances. \n",
      "audio-chunks\\chunk10.wav : The astonished in confounded or beholders. \n",
      "\n",
      "Full text: Who's a bold which he had fixed in a bowery or a country seat. Add a short distance from the city. Just that what is now called dutch street. Sooner bounded with proofs of his ingenuity. Patterned smoked. That required a horse to work them. Dutch ovens that roasted meat without fire. Cards that went before the horses. Weather cocks that turned against the wind and other wrong-headed contrivances. The astonished in confounded or beholders. \n"
     ]
    }
   ],
   "source": [
    "# importing libraries \n",
    "import speech_recognition as sr \n",
    "import os \n",
    "from pydub import AudioSegment\n",
    "from pydub.silence import split_on_silence\n",
    "\n",
    "# create a speech recognition object\n",
    "r = sr.Recognizer()\n",
    "\n",
    "# a function that splits the audio file into chunks\n",
    "# and applies speech recognition\n",
    "def get_large_audio_transcription(path):\n",
    "    \"\"\"\n",
    "    Splitting the large audio file into chunks\n",
    "    and apply speech recognition on each of these chunks\n",
    "    \"\"\"\n",
    "    # open the audio file using pydub\n",
    "    sound = AudioSegment.from_wav(path)  \n",
    "    # split audio sound where silence is 700 miliseconds or more and get chunks\n",
    "    chunks = split_on_silence(sound,\n",
    "        # experiment with this value for your target audio file\n",
    "        min_silence_len = 500,\n",
    "        # adjust this per requirement\n",
    "        silence_thresh = sound.dBFS-14,\n",
    "        # keep the silence for 1 second, adjustable as well\n",
    "        keep_silence=500,\n",
    "    )\n",
    "    folder_name = \"audio-chunks\"\n",
    "    # create a directory to store the audio chunks\n",
    "    if not os.path.isdir(folder_name):\n",
    "        os.mkdir(folder_name)\n",
    "    whole_text = \"\"\n",
    "    # process each chunk \n",
    "    for i, audio_chunk in enumerate(chunks, start=1):\n",
    "        # export audio chunk and save it in\n",
    "        # the `folder_name` directory.\n",
    "        chunk_filename = os.path.join(folder_name, f\"chunk{i}.wav\")\n",
    "        audio_chunk.export(chunk_filename, format=\"wav\")\n",
    "        # recognize the chunk\n",
    "        with sr.AudioFile(chunk_filename) as source:\n",
    "            audio_listened = r.record(source)\n",
    "            # try converting it to text\n",
    "            try:\n",
    "                text = r.recognize_google(audio_listened)\n",
    "            except sr.UnknownValueError as e:\n",
    "                print(\"Error:\", str(e))\n",
    "            else:\n",
    "                text = f\"{text.capitalize()}. \"\n",
    "                print(chunk_filename, \":\", text)\n",
    "                whole_text += text\n",
    "    # return the text for all chunks detected\n",
    "    return whole_text\n",
    "\n",
    "\n",
    "if __name__ == '__main__':\n",
    "    import sys\n",
    "    # path = \"30-4447-0004.wav\"\n",
    "    path = \"machine-learning_speech-recognition_7601-291468-0006.wav\"\n",
    "    #path = sys.argv[1]\n",
    "    print(\"\\nFull text:\", get_large_audio_transcription(path))"
   ]
  },
  {
   "cell_type": "code",
   "execution_count": null,
   "id": "64177793",
   "metadata": {},
   "outputs": [],
   "source": []
  }
 ],
 "metadata": {
  "kernelspec": {
   "display_name": "Python 3 (ipykernel)",
   "language": "python",
   "name": "python3"
  },
  "language_info": {
   "codemirror_mode": {
    "name": "ipython",
    "version": 3
   },
   "file_extension": ".py",
   "mimetype": "text/x-python",
   "name": "python",
   "nbconvert_exporter": "python",
   "pygments_lexer": "ipython3",
   "version": "3.10.8"
  }
 },
 "nbformat": 4,
 "nbformat_minor": 5
}
